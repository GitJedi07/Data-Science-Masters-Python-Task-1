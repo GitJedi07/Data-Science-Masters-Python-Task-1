{
 "cells": [
  {
   "cell_type": "markdown",
   "id": "7ca1fc7f-7896-48ee-9d70-04ac2963aa40",
   "metadata": {
    "tags": []
   },
   "source": [
    "# Solution 1:"
   ]
  },
  {
   "cell_type": "code",
   "execution_count": null,
   "id": "a3db3e05-a797-4dcc-b5df-ad2279d6dcfe",
   "metadata": {},
   "outputs": [],
   "source": [
    "list1 = [1,2,3,4,[44,55,66,True],False,(34,56,78,89,34),{1,2,3,3,2,1},{1:34,\"key2\":[55,67,78,89],4:(45,22,61,34)},[56,'data science'],'Machine Learning']\n"
   ]
  },
  {
   "cell_type": "code",
   "execution_count": 2,
   "id": "b8082149-e4d0-47e3-8ff7-9a85e58c08b0",
   "metadata": {
    "tags": []
   },
   "outputs": [
    {
     "name": "stdout",
     "output_type": "stream",
     "text": [
      "Flat List of numbers:  [1, 2, 3, 4, 44, 55, 66, 34, 56, 78, 89, 34, 1, 2, 3, 1, 4, 34, 55, 67, 78, 89, 45, 22, 61, 34, 56]\n",
      "\n",
      "Product of flat list:  4134711838987085478833841242112000\n"
     ]
    }
   ],
   "source": [
    "def test1(a):\n",
    "    n = []\n",
    "    for i in a:\n",
    "        if type(i)==int:\n",
    "            n.append(i)\n",
    "            \n",
    "        elif type(i)!=bool and type(i)!=dict: #as bool object is not iterable and dict should be done separately for convenience\n",
    "            for j in i:\n",
    "                if type(j)==int:\n",
    "                    n.append(j)\n",
    "                    \n",
    "        elif type(i)==dict:\n",
    "            for j in i.keys():\n",
    "                if type(j)==int: #will check the data type of just the key elements\n",
    "                    n.append(j)\n",
    "                    \n",
    "            for k in i.values(): \n",
    "                if type(k)==int: #will check the data type of just the value elements\n",
    "                    n.append(k)\n",
    "                    \n",
    "                if type(k)!=int: #as there exists one int value element in the dict and its not iterable \n",
    "                    for l in k:\n",
    "                        if type(l)==int:\n",
    "                            n.append(l)\n",
    "    return n\n",
    "#Testing the function\n",
    "flat_list = test1(list1)\n",
    "print(\"Flat List of numbers: \", flat_list)\n",
    "\n",
    "from functools import reduce\n",
    "product = reduce(lambda x,y : x*y , flat_list)\n",
    "print(\"\\nProduct of flat list: \", product)"
   ]
  },
  {
   "cell_type": "markdown",
   "id": "ab083ce0-8caf-42ce-9cb2-8e1c2835bf34",
   "metadata": {},
   "source": [
    "# Solution 2:"
   ]
  },
  {
   "cell_type": "code",
   "execution_count": 3,
   "id": "69d20d24-f279-4119-ad4f-a671754ccb92",
   "metadata": {},
   "outputs": [
    {
     "name": "stdin",
     "output_type": "stream",
     "text": [
      "Enter your message:  I want to become a Data Scientist.\n"
     ]
    },
    {
     "name": "stdout",
     "output_type": "stream",
     "text": [
      "i$wznt$to$yexome$z$dztz$sxientist.\n"
     ]
    }
   ],
   "source": [
    "msg = input(\"Enter your message: \")\n",
    "msg = msg.lower()\n",
    "for i in msg:\n",
    "    if i == \"a\":\n",
    "        msg = msg.replace(\"a\", \"z\")\n",
    "    if i == \"b\":\n",
    "        msg = msg.replace(\"b\", \"y\")\n",
    "    if i == \"c\":\n",
    "        msg = msg.replace(\"c\", \"x\")\n",
    "    if i == \" \":\n",
    "        msg = msg.replace(\" \", \"$\")\n",
    "print(msg)"
   ]
  },
  {
   "cell_type": "code",
   "execution_count": null,
   "id": "19b14c74-2299-4688-b784-e289ca014289",
   "metadata": {},
   "outputs": [],
   "source": []
  },
  {
   "cell_type": "code",
   "execution_count": null,
   "id": "d24bf780-62b0-4da2-b5d4-47fa560a2ca4",
   "metadata": {},
   "outputs": [],
   "source": []
  }
 ],
 "metadata": {
  "kernelspec": {
   "display_name": "Python 3 (ipykernel)",
   "language": "python",
   "name": "python3"
  },
  "language_info": {
   "codemirror_mode": {
    "name": "ipython",
    "version": 3
   },
   "file_extension": ".py",
   "mimetype": "text/x-python",
   "name": "python",
   "nbconvert_exporter": "python",
   "pygments_lexer": "ipython3",
   "version": "3.10.8"
  }
 },
 "nbformat": 4,
 "nbformat_minor": 5
}
